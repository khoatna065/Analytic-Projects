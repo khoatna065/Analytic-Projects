{
  "nbformat": 4,
  "nbformat_minor": 0,
  "metadata": {
    "colab": {
      "provenance": []
    },
    "kernelspec": {
      "name": "python3",
      "display_name": "Python 3"
    },
    "language_info": {
      "name": "python"
    }
  },
  "cells": [
    {
      "cell_type": "code",
      "execution_count": null,
      "metadata": {
        "id": "kVNfHKafz7ZT"
      },
      "outputs": [],
      "source": [
        "import numpy as np\n",
        "import pandas as pd"
      ]
    },
    {
      "cell_type": "code",
      "source": [
        "#import, change and sort data\n",
        "prices = pd.read_csv('/prices.csv')\n",
        "prices['updated_at'] = pd.to_datetime(prices['updated_at'])\n",
        "prices.sort_values('updated_at', inplace = True)\n",
        "print(prices.head())"
      ],
      "metadata": {
        "colab": {
          "base_uri": "https://localhost:8080/"
        },
        "id": "4Ttpdnlm0b7Z",
        "outputId": "bff4988a-7a06-4fde-e7ad-405d4b568870"
      },
      "execution_count": null,
      "outputs": [
        {
          "output_type": "stream",
          "name": "stdout",
          "text": [
            "    product_id  old_price  new_price          updated_at\n",
            "4      3954203      68800      60000 2018-09-10 16:32:00\n",
            "7      3998909      19000      17000 2018-09-10 16:35:00\n",
            "0           64     270000     239000 2018-09-10 16:37:00\n",
            "11     4085861      60000      53500 2018-09-11 08:51:00\n",
            "1      3954203      60000      64000 2018-09-11 11:54:00\n"
          ]
        }
      ]
    },
    {
      "cell_type": "code",
      "source": [
        "#import, change and sort data\n",
        "sales = pd.read_csv('/sales.csv')\n",
        "sales['ordered_at'] = pd.to_datetime(sales['ordered_at'])\n",
        "sales.sort_values('ordered_at', inplace = True)\n",
        "print(sales.head())"
      ],
      "metadata": {
        "colab": {
          "base_uri": "https://localhost:8080/"
        },
        "id": "Kfns5aKe0wvn",
        "outputId": "386d9b65-e1dc-46c7-bc90-fa5927be30c5"
      },
      "execution_count": null,
      "outputs": [
        {
          "output_type": "stream",
          "name": "stdout",
          "text": [
            "     product_id          ordered_at  quantity_ordered\n",
            "86      3954203 2018-09-11 01:43:00                 1\n",
            "28      4085861 2018-09-11 06:26:00                 1\n",
            "26      4085861 2018-09-11 06:53:00                 1\n",
            "27      4085861 2018-09-11 08:24:00                 1\n",
            "123     4085861 2018-09-11 09:30:00                 1\n"
          ]
        }
      ]
    },
    {
      "cell_type": "code",
      "source": [
        "#merge 2 tables and find correct price\n",
        "new_sales = pd.merge_asof(sales, prices,\n",
        "                          left_on='ordered_at',\n",
        "                          right_on='updated_at',\n",
        "                          by='product_id',\n",
        "                          direction='nearest')\n",
        "df1 = new_sales.loc[new_sales['ordered_at'] >= new_sales['updated_at'], ['product_id', 'new_price', 'quantity_ordered']]\n",
        "df2 = new_sales.loc[new_sales['ordered_at'] <  new_sales['updated_at'], ['product_id', 'old_price', 'quantity_ordered']]\n",
        "df2['new_price'] = df2['old_price']\n",
        "df2= df2[['product_id','quantity_ordered','new_price']]"
      ],
      "metadata": {
        "id": "lObFpL5A6gA9"
      },
      "execution_count": null,
      "outputs": []
    },
    {
      "cell_type": "code",
      "source": [
        "#create final data\n",
        "data = pd.concat([df1,df2])\n",
        "data = data.rename(columns={'new_price':'final_price'})\n",
        "final_data = data.groupby(['product_id','final_price'], as_index= False).sum('quantity_ordered')\n",
        "print(final_data)"
      ],
      "metadata": {
        "id": "mHRTCjDXgtrf",
        "colab": {
          "base_uri": "https://localhost:8080/"
        },
        "outputId": "4f4158cc-a458-45aa-a699-b3214d902da7"
      },
      "execution_count": null,
      "outputs": [
        {
          "output_type": "stream",
          "name": "stdout",
          "text": [
            "    product_id  final_price  quantity_ordered\n",
            "0           64       239000                 4\n",
            "1      3954203        57500                 1\n",
            "2      3954203        60000                 3\n",
            "3      3954203        64000                10\n",
            "4      3998909        15500                 1\n",
            "5      3998909        16500                14\n",
            "6      3998909        17000                 2\n",
            "7      4085861        52000                20\n",
            "8      4085861        53500                40\n",
            "9      4085861        58000                38\n",
            "10     4085861        60000                 3\n",
            "11     4085861        62500                29\n",
            "12     4085861        67000                13\n"
          ]
        }
      ]
    },
    {
      "cell_type": "code",
      "source": [
        "#revenue of each product at each price\n",
        "final_data['revenue'] = final_data['final_price'] * final_data['quantity_ordered']\n",
        "final_data = final_data[['product_id','final_price','revenue']]\n",
        "print(final_data)"
      ],
      "metadata": {
        "colab": {
          "base_uri": "https://localhost:8080/"
        },
        "id": "RjEoh1TIW7nL",
        "outputId": "7a93cfd1-065b-4288-cf46-62a92901ecca"
      },
      "execution_count": null,
      "outputs": [
        {
          "output_type": "stream",
          "name": "stdout",
          "text": [
            "    product_id  final_price  revenue\n",
            "0           64       239000   956000\n",
            "1      3954203        57500    57500\n",
            "2      3954203        60000   180000\n",
            "3      3954203        64000   640000\n",
            "4      3998909        15500    15500\n",
            "5      3998909        16500   231000\n",
            "6      3998909        17000    34000\n",
            "7      4085861        52000  1040000\n",
            "8      4085861        53500  2140000\n",
            "9      4085861        58000  2204000\n",
            "10     4085861        60000   180000\n",
            "11     4085861        62500  1812500\n",
            "12     4085861        67000   871000\n"
          ]
        }
      ]
    },
    {
      "cell_type": "code",
      "source": [
        "#revenue of each product\n",
        "fn1 = final_data.groupby('product_id', as_index = False).sum('revenue')\n",
        "print(fn1)"
      ],
      "metadata": {
        "colab": {
          "base_uri": "https://localhost:8080/"
        },
        "id": "wJO7Gj8LYjhH",
        "outputId": "61a46a03-f221-4617-993f-5f6ac370d325"
      },
      "execution_count": null,
      "outputs": [
        {
          "output_type": "stream",
          "name": "stdout",
          "text": [
            "   product_id  final_price  revenue\n",
            "0          64       239000   956000\n",
            "1     3954203       181500   877500\n",
            "2     3998909        49000   280500\n",
            "3     4085861       353000  8247500\n"
          ]
        }
      ]
    }
  ]
}